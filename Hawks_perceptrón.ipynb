{
 "cells": [
  {
   "cell_type": "code",
   "execution_count": 1,
   "metadata": {},
   "outputs": [],
   "source": [
    "import numpy as np                  #importovanie knižníc ktoré budem používať\n",
    "import pandas as pd\n",
    "import matplotlib.pyplot as plt"
   ]
  },
  {
   "cell_type": "code",
   "execution_count": 2,
   "metadata": {},
   "outputs": [],
   "source": [
    "df=pd.read_csv('Hawks_cleared.csv')  # načítanie súboru  data.csv, v ktorom sú dáta do premenej df\n",
    "df.columns = [\"Speciec\",\"Wing\",\"Tail\",\"Weight\"]  # nastavenie názvov pre stĺpce"
   ]
  },
  {
   "cell_type": "code",
   "execution_count": 3,
   "metadata": {},
   "outputs": [
    {
     "data": {
      "text/html": [
       "<div>\n",
       "<style scoped>\n",
       "    .dataframe tbody tr th:only-of-type {\n",
       "        vertical-align: middle;\n",
       "    }\n",
       "\n",
       "    .dataframe tbody tr th {\n",
       "        vertical-align: top;\n",
       "    }\n",
       "\n",
       "    .dataframe thead th {\n",
       "        text-align: right;\n",
       "    }\n",
       "</style>\n",
       "<table border=\"1\" class=\"dataframe\">\n",
       "  <thead>\n",
       "    <tr style=\"text-align: right;\">\n",
       "      <th></th>\n",
       "      <th>Speciec</th>\n",
       "      <th>Wing</th>\n",
       "      <th>Tail</th>\n",
       "      <th>Weight</th>\n",
       "    </tr>\n",
       "  </thead>\n",
       "  <tbody>\n",
       "    <tr>\n",
       "      <th>0</th>\n",
       "      <td>CH</td>\n",
       "      <td>233</td>\n",
       "      <td>191</td>\n",
       "      <td>324</td>\n",
       "    </tr>\n",
       "    <tr>\n",
       "      <th>1</th>\n",
       "      <td>CH</td>\n",
       "      <td>252</td>\n",
       "      <td>230</td>\n",
       "      <td>340</td>\n",
       "    </tr>\n",
       "    <tr>\n",
       "      <th>2</th>\n",
       "      <td>CH</td>\n",
       "      <td>240</td>\n",
       "      <td>192</td>\n",
       "      <td>340</td>\n",
       "    </tr>\n",
       "    <tr>\n",
       "      <th>3</th>\n",
       "      <td>CH</td>\n",
       "      <td>271</td>\n",
       "      <td>232</td>\n",
       "      <td>475</td>\n",
       "    </tr>\n",
       "    <tr>\n",
       "      <th>4</th>\n",
       "      <td>CH</td>\n",
       "      <td>233</td>\n",
       "      <td>186</td>\n",
       "      <td>340</td>\n",
       "    </tr>\n",
       "    <tr>\n",
       "      <th>...</th>\n",
       "      <td>...</td>\n",
       "      <td>...</td>\n",
       "      <td>...</td>\n",
       "      <td>...</td>\n",
       "    </tr>\n",
       "    <tr>\n",
       "      <th>95</th>\n",
       "      <td>CH</td>\n",
       "      <td>220</td>\n",
       "      <td>185</td>\n",
       "      <td>335</td>\n",
       "    </tr>\n",
       "    <tr>\n",
       "      <th>96</th>\n",
       "      <td>CH</td>\n",
       "      <td>230</td>\n",
       "      <td>186</td>\n",
       "      <td>360</td>\n",
       "    </tr>\n",
       "    <tr>\n",
       "      <th>97</th>\n",
       "      <td>CH</td>\n",
       "      <td>220</td>\n",
       "      <td>185</td>\n",
       "      <td>335</td>\n",
       "    </tr>\n",
       "    <tr>\n",
       "      <th>98</th>\n",
       "      <td>CH</td>\n",
       "      <td>232</td>\n",
       "      <td>187</td>\n",
       "      <td>365</td>\n",
       "    </tr>\n",
       "    <tr>\n",
       "      <th>99</th>\n",
       "      <td>CH</td>\n",
       "      <td>233</td>\n",
       "      <td>189</td>\n",
       "      <td>370</td>\n",
       "    </tr>\n",
       "  </tbody>\n",
       "</table>\n",
       "<p>100 rows × 4 columns</p>\n",
       "</div>"
      ],
      "text/plain": [
       "   Speciec  Wing  Tail  Weight\n",
       "0       CH   233   191     324\n",
       "1       CH   252   230     340\n",
       "2       CH   240   192     340\n",
       "3       CH   271   232     475\n",
       "4       CH   233   186     340\n",
       "..     ...   ...   ...     ...\n",
       "95      CH   220   185     335\n",
       "96      CH   230   186     360\n",
       "97      CH   220   185     335\n",
       "98      CH   232   187     365\n",
       "99      CH   233   189     370\n",
       "\n",
       "[100 rows x 4 columns]"
      ]
     },
     "execution_count": 3,
     "metadata": {},
     "output_type": "execute_result"
    }
   ],
   "source": [
    "df.head(100) # názorný výpis môjho dataframu"
   ]
  },
  {
   "cell_type": "code",
   "execution_count": 142,
   "metadata": {},
   "outputs": [],
   "source": [
    "#Zadefinovanie triedy \"Perceptron\" so štyrmi metódami. \n",
    "#_intit_ je konštruktor - metóda, ktorá sa hneď zavolá pri vytvorení novej triedy - Perceptron\n",
    "#s parametrami rychlost_ucenia a pocet_iteracií\n",
    "#Rychlost učenia je hodnota, ktora mi udáva, že ako rýchlo sa bude neurónová sieť približovat k hodnote nula. \n",
    "#Metoda fit je metoda učenia\n",
    "#Metoda net_input je vstup do neuronovej siete, kde vynasobím váhy s x-kom(x=vstup)\n",
    "#Metoda predikcia rozdeluje vstupné hodnoty do skupín, a to nasledovným spôsobom: \n",
    "#ak x=vstup je väčšia alebo sa rovná k nule, tak mi vráti jednotku, v opačnom prípade mínus jednotku.\n",
    "\n",
    "class Perceptron():   \n",
    "    \n",
    "    def __init__(self, rychlost_ucenia=0.01, pocet_iteracii=50):\n",
    "        self.eta = rychlost_ucenia     #eta- grécke slovo\n",
    "        self.n_iter = pocet_iteracii   # n_iter = počet iteracii   \n",
    "    \n",
    "    def fit(self, X,y):                     # pole váh je na začiatku naplnené nulami\n",
    "        self.vahy = np.zeros(1+ X.shape[1]) # šírka pola váh je 1+(počet prvkov v riadku matice x), prvý prvok je bias\n",
    "        self.errors_=[]                     #  pole kde si ukladám hodnoty chýb v priebehu učenia\n",
    "        self.pomocna_vahy=[]                #  pole kde si ukladám hodnoty váh v priebehu učenia\n",
    "        for i in range(self.n_iter):\n",
    "            errors = 0\n",
    "            \n",
    "            for matica,vystup in zip(X,y):\n",
    "                update = self.eta * (vystup-self.predikcia(matica)) #aktualizovanie váh\n",
    "                self.vahy[1:] += update*matica\n",
    "                self.vahy[0]+= update\n",
    "                errors += int(update !=0.0)\n",
    "            self.pomocna_vahy.append(self.vahy*1.0)   # napĺňanie pola self.pomocna_vahy\n",
    "            self.errors_.append(errors)               # napĺňanie pola self.errors_\n",
    "            \n",
    "        return self  \n",
    "\n",
    "    def net_input(self, X):                          #vstup do neuronovej siete\n",
    "        return np.dot(X, self.vahy[1:])+ self.vahy[0]\n",
    "\n",
    "    def predikcia(self, X):                          # aktivačna funkcia - step function\n",
    "        return np.where(self.net_input(X) >= 0.0, 1, -1)"
   ]
  },
  {
   "cell_type": "code",
   "execution_count": 5,
   "metadata": {},
   "outputs": [],
   "source": [
    "#Alokácia prvých 300 riadkov dataframu tak, \n",
    "#že vyberieme iba stĺpce s indexami 1 a 2 (tieto stĺpce zaznamenávajú hodnoty o dĺžke listov kosatcov).\n",
    "#Do premennej x si uložím tieto hodnoty. \n",
    "#Rovnakým postupom si uložím do premennej y triedy jastrabov.\n",
    "\n",
    "\n",
    "x = df.iloc[0:300,[1,2]].values\n",
    "\n",
    "y = df.iloc[0:300,[0]].values"
   ]
  },
  {
   "cell_type": "code",
   "execution_count": 6,
   "metadata": {},
   "outputs": [
    {
     "data": {
      "text/plain": [
       "<function matplotlib.pyplot.show(close=None, block=None)>"
      ]
     },
     "execution_count": 6,
     "metadata": {},
     "output_type": "execute_result"
    },
    {
     "data": {
      "image/png": "[encoded data removed]",
      "text/plain": [
       "<Figure size 432x288 with 1 Axes>"
      ]
     },
     "metadata": {
      "needs_background": "light"
     },
     "output_type": "display_data"
    }
   ],
   "source": [
    "#Na vizualizáciu používame knižnicu \"matplotlib.pyplot\", ktoru som si importoval na začiatku\n",
    "#Z knižnice použijem metódu \"scatter\", čo je bodový graf.\n",
    "\n",
    "\n",
    "plt.scatter(x[:100,0],x[:100,1],color='blue', label='CH')\n",
    "plt.scatter(x[100:200,0],x[100:200,1],color='red', marker='x',label='RT')\n",
    "plt.scatter(x[200:300,0],x[200:300,1],color='green', marker='x',label='SS')\n",
    "plt.xlabel('Wing')   #názov x-osi\n",
    "plt.ylabel('Tail')   #názov y-osi\n",
    "plt.legend()\n",
    "plt.show"
   ]
  },
  {
   "cell_type": "code",
   "execution_count": 132,
   "metadata": {},
   "outputs": [],
   "source": [
    "x = df.iloc[0:200,[1,2]].values\n",
    "\n",
    "y = df.iloc[0:200,[0]].values"
   ]
  },
  {
   "cell_type": "code",
   "execution_count": 133,
   "metadata": {},
   "outputs": [
    {
     "data": {
      "text/plain": [
       "<function matplotlib.pyplot.show(close=None, block=None)>"
      ]
     },
     "execution_count": 133,
     "metadata": {},
     "output_type": "execute_result"
    },
    {
     "data": {
      "image/png": "[encoded data removed]",
      "text/plain": [
       "<Figure size 432x288 with 1 Axes>"
      ]
     },
     "metadata": {
      "needs_background": "light"
     },
     "output_type": "display_data"
    }
   ],
   "source": [
    "#Na vizualizáciu používame knižnicu \"matplotlib.pyplot\", ktoru som si importoval na začiatku\n",
    "#Z knižnice použijem metódu \"scatter\", čo je bodový graf.\n",
    "\n",
    "plt.scatter(x[:100,0],x[:100,1],color='blue', label='CH')\n",
    "plt.scatter(x[100:200,0],x[100:200,1],color='red', marker='x',label='RT')\n",
    "plt.xlabel('wing')   #názov x-osi\n",
    "plt.ylabel('tail')   #názov y-osi\n",
    "plt.legend()\n",
    "plt.show"
   ]
  },
  {
   "cell_type": "code",
   "execution_count": 134,
   "metadata": {},
   "outputs": [
    {
     "name": "stdout",
     "output_type": "stream",
     "text": [
      "Iterácia: 1 :\n",
      "Hodnota chyby: 2\n",
      "Iterácia: 2 :\n",
      "Hodnota chyby: 2\n",
      "Iterácia: 3 :\n",
      "Hodnota chyby: 2\n",
      "Iterácia: 4 :\n",
      "Hodnota chyby: 3\n",
      "Iterácia: 5 :\n",
      "Hodnota chyby: 2\n",
      "Iterácia: 6 :\n",
      "Hodnota chyby: 3\n",
      "Iterácia: 7 :\n",
      "Hodnota chyby: 2\n",
      "Iterácia: 8 :\n",
      "Hodnota chyby: 1\n",
      "Iterácia: 9 :\n",
      "Hodnota chyby: 0\n",
      "Iterácia: 10 :\n",
      "Hodnota chyby: 0\n",
      "Iterácia: 11 :\n",
      "Hodnota chyby: 0\n",
      "Iterácia: 12 :\n",
      "Hodnota chyby: 0\n",
      "Iterácia: 13 :\n",
      "Hodnota chyby: 0\n",
      "Iterácia: 14 :\n",
      "Hodnota chyby: 0\n",
      "Iterácia: 15 :\n",
      "Hodnota chyby: 0\n",
      "Iterácia: 16 :\n",
      "Hodnota chyby: 0\n",
      "Iterácia: 17 :\n",
      "Hodnota chyby: 0\n",
      "Iterácia: 18 :\n",
      "Hodnota chyby: 0\n",
      "Iterácia: 19 :\n",
      "Hodnota chyby: 0\n",
      "Iterácia: 20 :\n",
      "Hodnota chyby: 0\n",
      "Iterácia: 21 :\n",
      "Hodnota chyby: 0\n",
      "Iterácia: 22 :\n",
      "Hodnota chyby: 0\n",
      "Iterácia: 23 :\n",
      "Hodnota chyby: 0\n",
      "Iterácia: 24 :\n",
      "Hodnota chyby: 0\n",
      "Iterácia: 25 :\n",
      "Hodnota chyby: 0\n",
      "Iterácia: 26 :\n",
      "Hodnota chyby: 0\n",
      "Iterácia: 27 :\n",
      "Hodnota chyby: 0\n",
      "Iterácia: 28 :\n",
      "Hodnota chyby: 0\n",
      "Iterácia: 29 :\n",
      "Hodnota chyby: 0\n",
      "Iterácia: 30 :\n",
      "Hodnota chyby: 0\n",
      "Iterácia: 31 :\n",
      "Hodnota chyby: 0\n",
      "Iterácia: 32 :\n",
      "Hodnota chyby: 0\n",
      "Iterácia: 33 :\n",
      "Hodnota chyby: 0\n",
      "Iterácia: 34 :\n",
      "Hodnota chyby: 0\n",
      "Iterácia: 35 :\n",
      "Hodnota chyby: 0\n",
      "Iterácia: 36 :\n",
      "Hodnota chyby: 0\n",
      "Iterácia: 37 :\n",
      "Hodnota chyby: 0\n",
      "Iterácia: 38 :\n",
      "Hodnota chyby: 0\n",
      "Iterácia: 39 :\n",
      "Hodnota chyby: 0\n",
      "Iterácia: 40 :\n",
      "Hodnota chyby: 0\n",
      "Iterácia: 41 :\n",
      "Hodnota chyby: 0\n",
      "Iterácia: 42 :\n",
      "Hodnota chyby: 0\n",
      "Iterácia: 43 :\n",
      "Hodnota chyby: 0\n",
      "Iterácia: 44 :\n",
      "Hodnota chyby: 0\n",
      "Iterácia: 45 :\n",
      "Hodnota chyby: 0\n",
      "Iterácia: 46 :\n",
      "Hodnota chyby: 0\n",
      "Iterácia: 47 :\n",
      "Hodnota chyby: 0\n",
      "Iterácia: 48 :\n",
      "Hodnota chyby: 0\n",
      "Iterácia: 49 :\n",
      "Hodnota chyby: 0\n",
      "Iterácia: 50 :\n",
      "Hodnota chyby: 0\n"
     ]
    },
    {
     "data": {
      "text/plain": [
       "Text(0, 0.5, 'Error')"
      ]
     },
     "execution_count": 134,
     "metadata": {},
     "output_type": "execute_result"
    },
    {
     "data": {
      "image/png": "[encoded data removed]",
      "text/plain": [
       "<Figure size 432x288 with 1 Axes>"
      ]
     },
     "metadata": {
      "needs_background": "light"
     },
     "output_type": "display_data"
    }
   ],
   "source": [
    "#Neurónove siete pracujú s hodnotami typu integer, \n",
    "#preto si musím stringové názvy zmeniť napríklad na mínus jednotky a jednotky. \n",
    "#To znamená že ak sa y bude rovnať \"CH\" tak dostaneme hodnotu -1, v opacnom pripade dostaneme 1\n",
    "\n",
    "skupinyHawks= np.where(y=='CH',-1,1)\n",
    "\n",
    "ppn= Perceptron()    #inicialízacia triedy Perceptrón\n",
    "\n",
    "ppn.fit(x,skupinyHawks) #spustenie metódy fit (do ktorej zadám vstup  x, a výstup - skupinyRastlin), ktorá natrénuje neurónovú sieť\n",
    "\n",
    "i=1                        #výpis hodnôt chýb v priebehu učenia (všetky iterácie),hodnoty chyby sú 0 po deviatej iterácii\n",
    "for k in range(len(ppn.errors_)):\n",
    " print(\"Iterácia:\",i,':')\n",
    " print(\"Hodnota chyby:\",ppn.errors_[k])\n",
    " i+=1\n",
    "\n",
    "plt.plot(ppn.errors_,marker='o')     # zobrazenie hodnôt do grafu\n",
    "plt.xlabel('počet iterácií')   #názov x-osi\n",
    "plt.ylabel('Error')            #názov y-osi"
   ]
  },
  {
   "cell_type": "code",
   "execution_count": 10,
   "metadata": {},
   "outputs": [
    {
     "name": "stdout",
     "output_type": "stream",
     "text": [
      "Iterácia: 1 :\n",
      "Hodnota váh: [0.   3.04 0.56]\n",
      "Iterácia: 2 :\n",
      "Hodnota váh: [0.   6.08 1.12]\n",
      "Iterácia: 3 :\n",
      "Hodnota váh: [0.   9.12 1.68]\n",
      "Iterácia: 4 :\n",
      "Hodnota váh: [-0.02  7.12 -2.36]\n",
      "Iterácia: 5 :\n",
      "Hodnota váh: [-0.02 10.16 -1.8 ]\n",
      "Iterácia: 6 :\n",
      "Hodnota váh: [-0.04  8.16 -5.84]\n",
      "Iterácia: 7 :\n",
      "Hodnota váh: [-0.04 11.2  -5.28]\n",
      "Iterácia: 8 :\n",
      "Hodnota váh: [-0.06  6.54 -9.1 ]\n",
      "Iterácia: 9 :\n",
      "Hodnota váh: [-0.06  6.54 -9.1 ]\n",
      "Iterácia: 10 :\n",
      "Hodnota váh: [-0.06  6.54 -9.1 ]\n",
      "Iterácia: 11 :\n",
      "Hodnota váh: [-0.06  6.54 -9.1 ]\n",
      "Iterácia: 12 :\n",
      "Hodnota váh: [-0.06  6.54 -9.1 ]\n",
      "Iterácia: 13 :\n",
      "Hodnota váh: [-0.06  6.54 -9.1 ]\n",
      "Iterácia: 14 :\n",
      "Hodnota váh: [-0.06  6.54 -9.1 ]\n",
      "Iterácia: 15 :\n",
      "Hodnota váh: [-0.06  6.54 -9.1 ]\n"
     ]
    },
    {
     "data": {
      "text/plain": [
       "Text(0, 0.5, 'vahy')"
      ]
     },
     "execution_count": 10,
     "metadata": {},
     "output_type": "execute_result"
    },
    {
     "data": {
      "image/png": "[encoded data removed]",
      "text/plain": [
       "<Figure size 432x288 with 1 Axes>"
      ]
     },
     "metadata": {
      "needs_background": "light"
     },
     "output_type": "display_data"
    }
   ],
   "source": [
    "i=1                #výpis hodnôt váh v priebehu učenia (všetky iterácie),hodnoty váh sa nemenia po ôsmej iterácii\n",
    "for k in range(len(ppn.pomocna_vahy)):         \n",
    "    print(\"Iterácia:\",i,':')\n",
    "    print(\"Hodnota váh:\",ppn.pomocna_vahy[k])\n",
    "    i+=1\n",
    "    \n",
    "plt.plot(ppn.pomocna_vahy,marker='o') # zobrazenie hodnôt do grafu\n",
    "\n",
    "plt.xlabel('počet iterácií')\n",
    "plt.ylabel('vahy')"
   ]
  },
  {
   "cell_type": "code",
   "execution_count": 245,
   "metadata": {},
   "outputs": [],
   "source": [
    "# Analogickým spôsobom postupujem pre druhú kombináciu jastrabov\n",
    "\n",
    "x = np.concatenate((df.iloc[0:100,[1,2]].values, df.iloc[200:300,[1,2]].values), axis=0) \n",
    "\n",
    "y = np.concatenate((df.iloc[0:100,[0]].values, df.iloc[200:300,[0]].values), axis=0) "
   ]
  },
  {
   "cell_type": "code",
   "execution_count": 246,
   "metadata": {},
   "outputs": [],
   "source": [
    "#u=0\n",
    "#for u in range(100):\n",
    "#    x[u][1]=160\n",
    "#    x[u][0]=245\n",
    "#    u+=1"
   ]
  },
  {
   "cell_type": "code",
   "execution_count": 247,
   "metadata": {},
   "outputs": [
    {
     "data": {
      "text/plain": [
       "<function matplotlib.pyplot.show(close=None, block=None)>"
      ]
     },
     "execution_count": 247,
     "metadata": {},
     "output_type": "execute_result"
    },
    {
     "data": {
      "image/png": "[encoded data removed]",
      "text/plain": [
       "<Figure size 432x288 with 1 Axes>"
      ]
     },
     "metadata": {
      "needs_background": "light"
     },
     "output_type": "display_data"
    }
   ],
   "source": [
    "plt.scatter(x[0:100,0],x[0:100,1],color='blue', label='CH')\n",
    "plt.scatter(x[100:200,0],x[100:200,1],color='green', marker='x',label='SS')\n",
    "plt.xlabel('wing')   #názov x-osi\n",
    "plt.ylabel('tail')   #názov y-osi\n",
    "plt.legend()\n",
    "plt.show"
   ]
  },
  {
   "cell_type": "code",
   "execution_count": 248,
   "metadata": {},
   "outputs": [
    {
     "name": "stdout",
     "output_type": "stream",
     "text": [
      "Iterácia: 1 :\n",
      "Hodnota chyby: 3\n",
      "Iterácia: 2 :\n",
      "Hodnota chyby: 2\n",
      "Iterácia: 3 :\n",
      "Hodnota chyby: 2\n",
      "Iterácia: 4 :\n",
      "Hodnota chyby: 2\n",
      "Iterácia: 5 :\n",
      "Hodnota chyby: 3\n",
      "Iterácia: 6 :\n",
      "Hodnota chyby: 2\n",
      "Iterácia: 7 :\n",
      "Hodnota chyby: 2\n",
      "Iterácia: 8 :\n",
      "Hodnota chyby: 2\n",
      "Iterácia: 9 :\n",
      "Hodnota chyby: 2\n",
      "Iterácia: 10 :\n",
      "Hodnota chyby: 2\n",
      "Iterácia: 11 :\n",
      "Hodnota chyby: 3\n",
      "Iterácia: 12 :\n",
      "Hodnota chyby: 2\n",
      "Iterácia: 13 :\n",
      "Hodnota chyby: 2\n",
      "Iterácia: 14 :\n",
      "Hodnota chyby: 2\n",
      "Iterácia: 15 :\n",
      "Hodnota chyby: 2\n",
      "Iterácia: 16 :\n",
      "Hodnota chyby: 3\n",
      "Iterácia: 17 :\n",
      "Hodnota chyby: 2\n",
      "Iterácia: 18 :\n",
      "Hodnota chyby: 2\n",
      "Iterácia: 19 :\n",
      "Hodnota chyby: 2\n",
      "Iterácia: 20 :\n",
      "Hodnota chyby: 2\n",
      "Iterácia: 21 :\n",
      "Hodnota chyby: 2\n",
      "Iterácia: 22 :\n",
      "Hodnota chyby: 3\n",
      "Iterácia: 23 :\n",
      "Hodnota chyby: 2\n",
      "Iterácia: 24 :\n",
      "Hodnota chyby: 2\n",
      "Iterácia: 25 :\n",
      "Hodnota chyby: 2\n",
      "Iterácia: 26 :\n",
      "Hodnota chyby: 2\n",
      "Iterácia: 27 :\n",
      "Hodnota chyby: 3\n",
      "Iterácia: 28 :\n",
      "Hodnota chyby: 2\n",
      "Iterácia: 29 :\n",
      "Hodnota chyby: 2\n",
      "Iterácia: 30 :\n",
      "Hodnota chyby: 2\n",
      "Iterácia: 31 :\n",
      "Hodnota chyby: 2\n",
      "Iterácia: 32 :\n",
      "Hodnota chyby: 3\n",
      "Iterácia: 33 :\n",
      "Hodnota chyby: 2\n",
      "Iterácia: 34 :\n",
      "Hodnota chyby: 2\n",
      "Iterácia: 35 :\n",
      "Hodnota chyby: 2\n",
      "Iterácia: 36 :\n",
      "Hodnota chyby: 2\n",
      "Iterácia: 37 :\n",
      "Hodnota chyby: 3\n",
      "Iterácia: 38 :\n",
      "Hodnota chyby: 2\n",
      "Iterácia: 39 :\n",
      "Hodnota chyby: 2\n",
      "Iterácia: 40 :\n",
      "Hodnota chyby: 2\n",
      "Iterácia: 41 :\n",
      "Hodnota chyby: 2\n",
      "Iterácia: 42 :\n",
      "Hodnota chyby: 3\n",
      "Iterácia: 43 :\n",
      "Hodnota chyby: 2\n",
      "Iterácia: 44 :\n",
      "Hodnota chyby: 2\n",
      "Iterácia: 45 :\n",
      "Hodnota chyby: 2\n",
      "Iterácia: 46 :\n",
      "Hodnota chyby: 2\n",
      "Iterácia: 47 :\n",
      "Hodnota chyby: 3\n",
      "Iterácia: 48 :\n",
      "Hodnota chyby: 2\n",
      "Iterácia: 49 :\n",
      "Hodnota chyby: 2\n",
      "Iterácia: 50 :\n",
      "Hodnota chyby: 2\n"
     ]
    },
    {
     "data": {
      "text/plain": [
       "Text(0, 0.5, 'Error')"
      ]
     },
     "execution_count": 248,
     "metadata": {},
     "output_type": "execute_result"
    },
    {
     "data": {
      "image/png": "[encoded data removed]",
      "text/plain": [
       "<Figure size 432x288 with 1 Axes>"
      ]
     },
     "metadata": {
      "needs_background": "light"
     },
     "output_type": "display_data"
    }
   ],
   "source": [
    "skupinyHawks= np.where(y=='CH',-1,1)\n",
    "\n",
    "ppn= Perceptron()\n",
    "\n",
    "ppn.fit(x,skupinyHawks)\n",
    "\n",
    "i=1\n",
    "for k in range(len(ppn.errors_)):\n",
    " print(\"Iterácia:\",i,':')\n",
    " print(\"Hodnota chyby:\",ppn.errors_[k])\n",
    " i+=1\n",
    "\n",
    "plt.plot(ppn.errors_,marker='o')\n",
    "\n",
    "plt.xlabel('počet iterácií')\n",
    "plt.ylabel('Error')"
   ]
  },
  {
   "cell_type": "code",
   "execution_count": 249,
   "metadata": {},
   "outputs": [
    {
     "name": "stdout",
     "output_type": "stream",
     "text": [
      "Iterácia: 1 :\n",
      "Hodnota váh: [0.02 2.9  1.92]\n",
      "Iterácia: 2 :\n",
      "Hodnota váh: [0.02 2.34 1.24]\n",
      "Iterácia: 3 :\n",
      "Hodnota váh: [0.02 1.78 0.56]\n",
      "Iterácia: 4 :\n",
      "Hodnota váh: [ 0.02  1.22 -0.12]\n",
      "Iterácia: 5 :\n",
      "Hodnota váh: [0.04 4.56 2.48]\n",
      "Iterácia: 6 :\n",
      "Hodnota váh: [0.04 4.   1.8 ]\n",
      "Iterácia: 7 :\n",
      "Hodnota váh: [0.04 3.44 1.12]\n",
      "Iterácia: 8 :\n",
      "Hodnota váh: [0.04 2.88 0.44]\n",
      "Iterácia: 9 :\n",
      "Hodnota váh: [ 0.04  2.32 -0.24]\n",
      "Iterácia: 10 :\n",
      "Hodnota váh: [ 0.04  1.76 -0.92]\n",
      "Iterácia: 11 :\n",
      "Hodnota váh: [0.06 4.66 1.  ]\n",
      "Iterácia: 12 :\n",
      "Hodnota váh: [0.06 4.1  0.32]\n",
      "Iterácia: 13 :\n",
      "Hodnota váh: [ 0.06  3.54 -0.36]\n",
      "Iterácia: 14 :\n",
      "Hodnota váh: [ 0.06  2.98 -1.04]\n",
      "Iterácia: 15 :\n",
      "Hodnota váh: [ 0.06  2.42 -1.72]\n",
      "Iterácia: 16 :\n",
      "Hodnota váh: [0.08 5.96 0.88]\n",
      "Iterácia: 17 :\n",
      "Hodnota váh: [0.08 5.4  0.2 ]\n",
      "Iterácia: 18 :\n",
      "Hodnota váh: [ 0.08  4.84 -0.48]\n",
      "Iterácia: 19 :\n",
      "Hodnota váh: [ 0.08  4.28 -1.16]\n",
      "Iterácia: 20 :\n",
      "Hodnota váh: [ 0.08  3.72 -1.84]\n",
      "Iterácia: 21 :\n",
      "Hodnota váh: [ 0.08  3.16 -2.52]\n",
      "Iterácia: 22 :\n",
      "Hodnota váh: [ 0.1   6.16 -0.3 ]\n",
      "Iterácia: 23 :\n",
      "Hodnota váh: [ 0.1   5.6  -0.98]\n",
      "Iterácia: 24 :\n",
      "Hodnota váh: [ 0.1   5.04 -1.66]\n",
      "Iterácia: 25 :\n",
      "Hodnota váh: [ 0.1   4.48 -2.34]\n",
      "Iterácia: 26 :\n",
      "Hodnota váh: [ 0.1   3.92 -3.02]\n",
      "Iterácia: 27 :\n",
      "Hodnota váh: [ 0.12  6.22 -0.52]\n",
      "Iterácia: 28 :\n",
      "Hodnota váh: [ 0.12  5.66 -1.2 ]\n",
      "Iterácia: 29 :\n",
      "Hodnota váh: [ 0.12  5.1  -1.88]\n",
      "Iterácia: 30 :\n",
      "Hodnota váh: [ 0.12  4.54 -2.56]\n",
      "Iterácia: 31 :\n",
      "Hodnota váh: [ 0.12  3.98 -3.24]\n",
      "Iterácia: 32 :\n",
      "Hodnota váh: [ 0.14  6.28 -0.74]\n",
      "Iterácia: 33 :\n",
      "Hodnota váh: [ 0.14  5.72 -1.42]\n",
      "Iterácia: 34 :\n",
      "Hodnota váh: [ 0.14  5.16 -2.1 ]\n",
      "Iterácia: 35 :\n",
      "Hodnota váh: [ 0.14  4.6  -2.78]\n",
      "Iterácia: 36 :\n",
      "Hodnota váh: [ 0.14  4.04 -3.46]\n",
      "Iterácia: 37 :\n",
      "Hodnota váh: [ 0.16  7.38 -0.86]\n",
      "Iterácia: 38 :\n",
      "Hodnota váh: [ 0.16  6.82 -1.54]\n",
      "Iterácia: 39 :\n",
      "Hodnota váh: [ 0.16  6.26 -2.22]\n",
      "Iterácia: 40 :\n",
      "Hodnota váh: [ 0.16  5.7  -2.9 ]\n",
      "Iterácia: 41 :\n",
      "Hodnota váh: [ 0.16  5.14 -3.58]\n",
      "Iterácia: 42 :\n",
      "Hodnota váh: [ 0.18  7.44 -1.08]\n",
      "Iterácia: 43 :\n",
      "Hodnota váh: [ 0.18  6.88 -1.76]\n",
      "Iterácia: 44 :\n",
      "Hodnota váh: [ 0.18  6.32 -2.44]\n",
      "Iterácia: 45 :\n",
      "Hodnota váh: [ 0.18  5.76 -3.12]\n",
      "Iterácia: 46 :\n",
      "Hodnota váh: [ 0.18  5.2  -3.8 ]\n",
      "Iterácia: 47 :\n",
      "Hodnota váh: [ 0.2  7.5 -1.3]\n",
      "Iterácia: 48 :\n",
      "Hodnota váh: [ 0.2   6.94 -1.98]\n",
      "Iterácia: 49 :\n",
      "Hodnota váh: [ 0.2   6.38 -2.66]\n",
      "Iterácia: 50 :\n",
      "Hodnota váh: [ 0.2   5.82 -3.34]\n"
     ]
    },
    {
     "data": {
      "text/plain": [
       "Text(0, 0.5, 'vahy')"
      ]
     },
     "execution_count": 249,
     "metadata": {},
     "output_type": "execute_result"
    },
    {
     "data": {
      "image/png": "[encoded data removed]",
      "text/plain": [
       "<Figure size 432x288 with 1 Axes>"
      ]
     },
     "metadata": {
      "needs_background": "light"
     },
     "output_type": "display_data"
    }
   ],
   "source": [
    "i=1\n",
    "for k in range(len(ppn.pomocna_vahy)):\n",
    "    print(\"Iterácia:\",i,':')\n",
    "    print(\"Hodnota váh:\",ppn.pomocna_vahy[k])\n",
    "    i+=1\n",
    "    \n",
    "\n",
    "plt.plot(ppn.pomocna_vahy)\n",
    "\n",
    "plt.xlabel('počet iterácií')\n",
    "plt.ylabel('vahy')"
   ]
  },
  {
   "cell_type": "code",
   "execution_count": 250,
   "metadata": {},
   "outputs": [],
   "source": [
    "# Tretia kombinácia jastrabov\n",
    "\n",
    "x = df.iloc[100:300,[1,2]].values\n",
    "\n",
    "y = df.iloc[100:300,[0]].values"
   ]
  },
  {
   "cell_type": "code",
   "execution_count": 251,
   "metadata": {},
   "outputs": [
    {
     "data": {
      "text/plain": [
       "<function matplotlib.pyplot.show(close=None, block=None)>"
      ]
     },
     "execution_count": 251,
     "metadata": {},
     "output_type": "execute_result"
    },
    {
     "data": {
      "image/png": "[encoded data removed]",
      "text/plain": [
       "<Figure size 432x288 with 1 Axes>"
      ]
     },
     "metadata": {
      "needs_background": "light"
     },
     "output_type": "display_data"
    }
   ],
   "source": [
    "plt.scatter(x[:100,0],x[:100,1],color='red', label='RT')\n",
    "plt.scatter(x[100:200,0],x[100:200,1],color='green', marker='x',label='SS')\n",
    "plt.xlabel('wing')   #názov x-osi\n",
    "plt.ylabel('tail')   #názov y-osi\n",
    "plt.legend()\n",
    "plt.show"
   ]
  },
  {
   "cell_type": "code",
   "execution_count": 252,
   "metadata": {},
   "outputs": [
    {
     "name": "stdout",
     "output_type": "stream",
     "text": [
      "Iterácia: 1 :\n",
      "Hodnota chyby: 3\n",
      "Iterácia: 2 :\n",
      "Hodnota chyby: 3\n",
      "Iterácia: 3 :\n",
      "Hodnota chyby: 3\n",
      "Iterácia: 4 :\n",
      "Hodnota chyby: 3\n",
      "Iterácia: 5 :\n",
      "Hodnota chyby: 3\n",
      "Iterácia: 6 :\n",
      "Hodnota chyby: 3\n",
      "Iterácia: 7 :\n",
      "Hodnota chyby: 2\n",
      "Iterácia: 8 :\n",
      "Hodnota chyby: 3\n",
      "Iterácia: 9 :\n",
      "Hodnota chyby: 3\n",
      "Iterácia: 10 :\n",
      "Hodnota chyby: 3\n",
      "Iterácia: 11 :\n",
      "Hodnota chyby: 3\n",
      "Iterácia: 12 :\n",
      "Hodnota chyby: 3\n",
      "Iterácia: 13 :\n",
      "Hodnota chyby: 3\n",
      "Iterácia: 14 :\n",
      "Hodnota chyby: 2\n",
      "Iterácia: 15 :\n",
      "Hodnota chyby: 3\n",
      "Iterácia: 16 :\n",
      "Hodnota chyby: 3\n",
      "Iterácia: 17 :\n",
      "Hodnota chyby: 3\n",
      "Iterácia: 18 :\n",
      "Hodnota chyby: 3\n",
      "Iterácia: 19 :\n",
      "Hodnota chyby: 3\n",
      "Iterácia: 20 :\n",
      "Hodnota chyby: 2\n",
      "Iterácia: 21 :\n",
      "Hodnota chyby: 3\n",
      "Iterácia: 22 :\n",
      "Hodnota chyby: 3\n",
      "Iterácia: 23 :\n",
      "Hodnota chyby: 3\n",
      "Iterácia: 24 :\n",
      "Hodnota chyby: 3\n",
      "Iterácia: 25 :\n",
      "Hodnota chyby: 3\n",
      "Iterácia: 26 :\n",
      "Hodnota chyby: 2\n",
      "Iterácia: 27 :\n",
      "Hodnota chyby: 3\n",
      "Iterácia: 28 :\n",
      "Hodnota chyby: 3\n",
      "Iterácia: 29 :\n",
      "Hodnota chyby: 3\n",
      "Iterácia: 30 :\n",
      "Hodnota chyby: 3\n",
      "Iterácia: 31 :\n",
      "Hodnota chyby: 3\n",
      "Iterácia: 32 :\n",
      "Hodnota chyby: 2\n",
      "Iterácia: 33 :\n",
      "Hodnota chyby: 3\n",
      "Iterácia: 34 :\n",
      "Hodnota chyby: 3\n",
      "Iterácia: 35 :\n",
      "Hodnota chyby: 3\n",
      "Iterácia: 36 :\n",
      "Hodnota chyby: 3\n",
      "Iterácia: 37 :\n",
      "Hodnota chyby: 2\n",
      "Iterácia: 38 :\n",
      "Hodnota chyby: 3\n",
      "Iterácia: 39 :\n",
      "Hodnota chyby: 3\n",
      "Iterácia: 40 :\n",
      "Hodnota chyby: 3\n",
      "Iterácia: 41 :\n",
      "Hodnota chyby: 3\n",
      "Iterácia: 42 :\n",
      "Hodnota chyby: 3\n",
      "Iterácia: 43 :\n",
      "Hodnota chyby: 2\n",
      "Iterácia: 44 :\n",
      "Hodnota chyby: 3\n",
      "Iterácia: 45 :\n",
      "Hodnota chyby: 3\n",
      "Iterácia: 46 :\n",
      "Hodnota chyby: 3\n",
      "Iterácia: 47 :\n",
      "Hodnota chyby: 3\n",
      "Iterácia: 48 :\n",
      "Hodnota chyby: 2\n",
      "Iterácia: 49 :\n",
      "Hodnota chyby: 3\n",
      "Iterácia: 50 :\n",
      "Hodnota chyby: 3\n"
     ]
    },
    {
     "data": {
      "text/plain": [
       "Text(0, 0.5, 'Error')"
      ]
     },
     "execution_count": 252,
     "metadata": {},
     "output_type": "execute_result"
    },
    {
     "data": {
      "image/png": "[encoded data removed]",
      "text/plain": [
       "<Figure size 432x288 with 1 Axes>"
      ]
     },
     "metadata": {
      "needs_background": "light"
     },
     "output_type": "display_data"
    }
   ],
   "source": [
    "skupinyHawks= np.where(y=='RT',-1,1)\n",
    "\n",
    "ppn= Perceptron()\n",
    "\n",
    "ppn.fit(x,skupinyHawks)\n",
    "\n",
    "i=1\n",
    "for k in range(len(ppn.errors_)):\n",
    " print(\"Iterácia:\",i,':')\n",
    " print(\"Hodnota chyby:\",ppn.errors_[k])\n",
    " i+=1\n",
    "\n",
    "plt.plot(ppn.errors_,marker='o')\n",
    "\n",
    "plt.xlabel('počet iterácií')\n",
    "plt.ylabel('Error')"
   ]
  },
  {
   "cell_type": "code",
   "execution_count": 219,
   "metadata": {},
   "outputs": [
    {
     "name": "stdout",
     "output_type": "stream",
     "text": [
      "Iterácia: 1 :\n",
      "Hodnota váh: [ 0.02 -0.14  1.28]\n",
      "Iterácia: 2 :\n",
      "Hodnota váh: [ 0.04 -0.28  2.56]\n",
      "Iterácia: 3 :\n",
      "Hodnota váh: [ 0.06 -0.42  3.84]\n",
      "Iterácia: 4 :\n",
      "Hodnota váh: [ 0.08 -0.56  5.12]\n",
      "Iterácia: 5 :\n",
      "Hodnota váh: [ 0.1 -0.7  6.4]\n",
      "Iterácia: 6 :\n",
      "Hodnota váh: [ 0.12 -0.84  7.68]\n",
      "Iterácia: 7 :\n",
      "Hodnota váh: [ 0.14 -0.34  9.  ]\n",
      "Iterácia: 8 :\n",
      "Hodnota váh: [ 0.14 -3.94  7.68]\n",
      "Iterácia: 9 :\n",
      "Hodnota váh: [ 0.16 -4.08  8.96]\n",
      "Iterácia: 10 :\n",
      "Hodnota váh: [ 0.18 -4.22 10.24]\n",
      "Iterácia: 11 :\n",
      "Hodnota váh: [ 0.2  -4.36 11.52]\n",
      "Iterácia: 12 :\n",
      "Hodnota váh: [ 0.22 -4.5  12.8 ]\n",
      "Iterácia: 13 :\n",
      "Hodnota váh: [ 0.24 -4.   14.12]\n",
      "Iterácia: 14 :\n",
      "Hodnota váh: [ 0.24 -7.6  12.8 ]\n",
      "Iterácia: 15 :\n",
      "Hodnota váh: [ 0.26 -7.44 14.08]\n",
      "Iterácia: 16 :\n",
      "Hodnota váh: [ 0.28 -7.58 15.36]\n",
      "Iterácia: 17 :\n",
      "Hodnota váh: [ 0.3  -7.72 16.64]\n",
      "Iterácia: 18 :\n",
      "Hodnota váh: [ 0.32 -7.22 17.96]\n",
      "Iterácia: 19 :\n",
      "Hodnota váh: [ 0.34 -6.72 19.28]\n",
      "Iterácia: 20 :\n",
      "Hodnota váh: [  0.34 -10.32  17.96]\n",
      "Iterácia: 21 :\n",
      "Hodnota váh: [  0.36 -10.46  19.24]\n",
      "Iterácia: 22 :\n",
      "Hodnota váh: [  0.38 -10.6   20.52]\n",
      "Iterácia: 23 :\n",
      "Hodnota váh: [  0.4  -10.1   21.84]\n",
      "Iterácia: 24 :\n",
      "Hodnota váh: [ 0.42 -9.6  23.16]\n",
      "Iterácia: 25 :\n",
      "Hodnota váh: [  0.42 -13.2   21.84]\n",
      "Iterácia: 26 :\n",
      "Hodnota váh: [  0.44 -12.84  23.12]\n",
      "Iterácia: 27 :\n",
      "Hodnota váh: [  0.46 -12.98  24.4 ]\n",
      "Iterácia: 28 :\n",
      "Hodnota váh: [  0.48 -12.48  25.72]\n",
      "Iterácia: 29 :\n",
      "Hodnota váh: [  0.5  -11.98  27.04]\n",
      "Iterácia: 30 :\n",
      "Hodnota váh: [  0.5  -15.58  25.72]\n",
      "Iterácia: 31 :\n",
      "Hodnota váh: [  0.52 -15.22  27.  ]\n",
      "Iterácia: 32 :\n",
      "Hodnota váh: [  0.54 -14.72  28.32]\n",
      "Iterácia: 33 :\n",
      "Hodnota váh: [  0.56 -14.22  29.64]\n",
      "Iterácia: 34 :\n",
      "Hodnota váh: [  0.56 -17.82  28.32]\n",
      "Iterácia: 35 :\n",
      "Hodnota váh: [  0.58 -17.34  29.6 ]\n",
      "Iterácia: 36 :\n",
      "Hodnota váh: [  0.6  -16.66  30.92]\n",
      "Iterácia: 37 :\n",
      "Hodnota váh: [  0.62 -16.16  32.24]\n",
      "Iterácia: 38 :\n",
      "Hodnota váh: [  0.62 -19.76  30.92]\n",
      "Iterácia: 39 :\n",
      "Hodnota váh: [  0.62 -19.76  30.92]\n",
      "Iterácia: 40 :\n",
      "Hodnota váh: [  0.62 -19.76  30.92]\n",
      "Iterácia: 41 :\n",
      "Hodnota váh: [  0.62 -19.76  30.92]\n",
      "Iterácia: 42 :\n",
      "Hodnota váh: [  0.62 -19.76  30.92]\n",
      "Iterácia: 43 :\n",
      "Hodnota váh: [  0.62 -19.76  30.92]\n",
      "Iterácia: 44 :\n",
      "Hodnota váh: [  0.62 -19.76  30.92]\n",
      "Iterácia: 45 :\n",
      "Hodnota váh: [  0.62 -19.76  30.92]\n",
      "Iterácia: 46 :\n",
      "Hodnota váh: [  0.62 -19.76  30.92]\n",
      "Iterácia: 47 :\n",
      "Hodnota váh: [  0.62 -19.76  30.92]\n",
      "Iterácia: 48 :\n",
      "Hodnota váh: [  0.62 -19.76  30.92]\n",
      "Iterácia: 49 :\n",
      "Hodnota váh: [  0.62 -19.76  30.92]\n",
      "Iterácia: 50 :\n",
      "Hodnota váh: [  0.62 -19.76  30.92]\n"
     ]
    },
    {
     "data": {
      "text/plain": [
       "Text(0, 0.5, 'vahy')"
      ]
     },
     "execution_count": 219,
     "metadata": {},
     "output_type": "execute_result"
    },
    {
     "data": {
      "image/png": "[encoded data removed]",
      "text/plain": [
       "<Figure size 432x288 with 1 Axes>"
      ]
     },
     "metadata": {
      "needs_background": "light"
     },
     "output_type": "display_data"
    }
   ],
   "source": [
    "i=1\n",
    "for k in range(len(ppn.pomocna_vahy)):\n",
    "    print(\"Iterácia:\",i,':')\n",
    "    print(\"Hodnota váh:\",ppn.pomocna_vahy[k])\n",
    "    i+=1\n",
    "    \n",
    "\n",
    "plt.plot(ppn.pomocna_vahy,marker='o')\n",
    "\n",
    "plt.xlabel('počet iterácií')\n",
    "plt.ylabel('vahy')"
   ]
  }
 ],
 "metadata": {
  "kernelspec": {
   "display_name": "Python 3",
   "language": "python",
   "name": "python3"
  },
  "language_info": {
   "codemirror_mode": {
    "name": "ipython",
    "version": 3
   },
   "file_extension": ".py",
   "mimetype": "text/x-python",
   "name": "python",
   "nbconvert_exporter": "python",
   "pygments_lexer": "ipython3",
   "version": "3.8.5"
  }
 },
 "nbformat": 4,
 "nbformat_minor": 4
}
